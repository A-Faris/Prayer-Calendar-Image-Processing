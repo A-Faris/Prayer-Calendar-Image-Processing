{
 "cells": [
  {
   "cell_type": "code",
   "execution_count": null,
   "metadata": {},
   "outputs": [],
   "source": [
    "import cv2\n",
    "from matplotlib import pyplot as plt\n",
    "import pytesseract\n",
    "pytesseract.pytesseract.tesseract_cmd = r'C:\\Program Files\\Tesseract-OCR\\tesseract.exe'\n",
    "# pytesseract.pytesseract.tesseract_cmd = r'C:\\Users\\User\\AppData\\Local\\Tesseract-OCR\\tesseract.exe'\n",
    "import requests\n",
    "import json\n",
    "from datetime import datetime\n",
    "\n",
    "token = \"secret_9g\"\n",
    "databaseId = \"ec\"\n",
    "\n",
    "headers = {\n",
    "  \"Authorization\": \"Bearer \" + token,\n",
    "  \"Content-Type\": \"application/json\",\n",
    "  \"Notion-Version\": \"2022-02-22\"\n",
    "}\n",
    "\n",
    "def readDatabase(databaseId, headers):\n",
    "  res = requests.request(\"POST\", f\"https://api.notion.com/v1/databases/{databaseId}/query\", headers=headers)\n",
    "\n",
    "  with open('./Prayer_Calendar_2.json', 'w', encoding='utf8') as f:\n",
    "    json.dump(res.json(), f, ensure_ascii=False)\n",
    "\n",
    "# readDatabase(databaseId, headers)\n",
    "\n",
    "img = cv2.imread('January_2023.png', 0)\n",
    "crop = img[1260:img.shape[0]-400, 0:img.shape[1]]\n",
    "gray = cv2.threshold(crop,200,255,cv2.THRESH_BINARY)[1]\n",
    "cal = list( filter( None, pytesseract.image_to_string(gray, config=r'--oem 3 --psm 3 -c tessedit_char_blacklist==.‘,()').split(\"\\n\") ) )\n",
    "# plt.imshow(cv2.cvtColor(gray, cv2.COLOR_BGR2RGB))\n",
    "\n",
    "year = 2023; month = 1\n",
    "\n",
    "Timings = {\"Fajr\": [], \"Fajr Jammah\": [], \"Shurooq\": [], \"Dhuhr\": [], \"Dhuhr Jammah\": [], \"Asr\": [], \n",
    "  \"Asr Jammah\": [], \"Maghrib\": [], \"Maghrib Jammah\": [], \"Isha\": [], \"Isha Jammah\": [] }\n",
    "\n",
    "for dmonth, row in enumerate(cal, start=1):\n",
    "  for i, (prayer, time) in enumerate(Timings.items(), start=-11):\n",
    "    hours, min = map( int, row.split()[i].split(':') )\n",
    "    time.append( datetime(year, month, dmonth, hours, min).isoformat() ) #2023,1,1,6,12 → \"2023-01-03T06:12:00\"\n",
    "\n",
    "properties = {}\n",
    "\n",
    "for prayer, time in Timings.items():\n",
    "  for i in range(len(cal)):\n",
    "    properties[ str( datetime(year, month, i+1).strftime(\"%d/%m/%y\") ) ] = { \"date\": {\"start\": time[i]} }\n",
    "\n",
    "  for i in range(31 - len(cal)):\n",
    "    properties[ str( datetime(year, month, i+1).strftime(\"%d/%m/%y\") ) ] = {\"date\": None}\n",
    "    \n",
    "  properties[\"Name\"] = {  \"title\": [{ \"text\": {\"content\": prayer} }]  }\n",
    "\n",
    "  newPageData = { \"parent\": {\"database_id\": databaseId}, \"properties\": properties }\n",
    "  res = requests.request(\"POST\", 'https://api.notion.com/v1/pages', headers=headers, data=json.dumps(newPageData))\n",
    "  print(res.status_code);# print(res.text)"
   ]
  }
 ],
 "metadata": {
  "kernelspec": {
   "display_name": "Python 3",
   "language": "python",
   "name": "python3"
  },
  "language_info": {
   "codemirror_mode": {
    "name": "ipython",
    "version": 3
   },
   "file_extension": ".py",
   "mimetype": "text/x-python",
   "name": "python",
   "nbconvert_exporter": "python",
   "pygments_lexer": "ipython3",
   "version": "3.10.4"
  },
  "orig_nbformat": 4,
  "vscode": {
   "interpreter": {
    "hash": "f1255793069e5d988e2d53150fad8987b7b0be88154fc93b28637a447625b590"
   }
  }
 },
 "nbformat": 4,
 "nbformat_minor": 2
}
